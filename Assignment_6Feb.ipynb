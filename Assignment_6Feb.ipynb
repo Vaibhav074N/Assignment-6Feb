{
  "nbformat": 4,
  "nbformat_minor": 0,
  "metadata": {
    "colab": {
      "provenance": [],
      "authorship_tag": "ABX9TyOdQ1DI3gXy8oRzKaAsYyNs",
      "include_colab_link": true
    },
    "kernelspec": {
      "name": "python3",
      "display_name": "Python 3"
    },
    "language_info": {
      "name": "python"
    }
  },
  "cells": [
    {
      "cell_type": "markdown",
      "metadata": {
        "id": "view-in-github",
        "colab_type": "text"
      },
      "source": [
        "<a href=\"https://colab.research.google.com/github/Vaibhav074N/Assignment-6Feb/blob/main/Assignment_6Feb.ipynb\" target=\"_parent\"><img src=\"https://colab.research.google.com/assets/colab-badge.svg\" alt=\"Open In Colab\"/></a>"
      ]
    },
    {
      "cell_type": "markdown",
      "source": [
        "######Q1."
      ],
      "metadata": {
        "id": "kP3gG3XBLR4S"
      }
    },
    {
      "cell_type": "code",
      "source": [
        "from functools import reduce\n",
        "l1=[1,2,3,4,[44,55,66,True],False,(34,56,78,89,34),{1,2,3,3,2,1},{1:34,\"key2\":[55,67,78,89],4:(45,22,61,34)},[56,'data science'],'machine learnin']\n",
        "\n",
        "def f(l1):\n",
        "    n=[]\n",
        "    for i in l1:\n",
        "        if type(i)==list or type(i)==tuple or type(i)==set:\n",
        "            for j in i:\n",
        "                if type(j)==int:\n",
        "                    n.append(j)\n",
        "        if type(i)==dict:\n",
        "            a=i.keys()\n",
        "            b=i.values()\n",
        "            for i in a:\n",
        "                if type(i)==int:\n",
        "                    n.append(i)\n",
        "            for i in b:\n",
        "                if type(i)==int:\n",
        "                    n.append(i)\n",
        "                if type(i)==list or type(i)==tuple:\n",
        "                    for j in i:\n",
        "                        if type(j)==int:\n",
        "                            n.append(j)\n",
        "        else:\n",
        "            if type(i)==int:\n",
        "                n.append(i)\n",
        "    print(n)\n",
        "    print(\"Product is:\",reduce(lambda a,b:a*b,n))\n",
        "\n",
        "f(l1)"
      ],
      "metadata": {
        "colab": {
          "base_uri": "https://localhost:8080/"
        },
        "id": "QA1ROXPoLTkO",
        "outputId": "3907e6bd-ab7e-467b-a13e-dc5ad32548f6"
      },
      "execution_count": 2,
      "outputs": [
        {
          "output_type": "stream",
          "name": "stdout",
          "text": [
            "[1, 2, 3, 4, 44, 55, 66, 34, 56, 78, 89, 34, 1, 2, 3, 1, 4, 34, 55, 67, 78, 89, 45, 22, 61, 34, 56]\n",
            "Product is: 4134711838987085478833841242112000\n"
          ]
        }
      ]
    },
    {
      "cell_type": "markdown",
      "source": [
        "######Q2."
      ],
      "metadata": {
        "id": "Uy8PjEglLwxX"
      }
    },
    {
      "cell_type": "code",
      "source": [
        "n='I want to become a Data Scientist'\n",
        "\n",
        "for i in n:\n",
        "    if i=='a':\n",
        "        n=n.replace('a','z')\n",
        "    elif i=='b':\n",
        "        n=n.replace('b','y')\n",
        "    elif i=='c':\n",
        "        n=n.replace('c','x')\n",
        "    elif i==\" \":\n",
        "        n=n.replace(\" \",'$')\n",
        "\n",
        "print(n.lower())"
      ],
      "metadata": {
        "colab": {
          "base_uri": "https://localhost:8080/"
        },
        "id": "nrOFJMjhLy_1",
        "outputId": "52ebba0d-452a-4375-978a-d9a821661dfa"
      },
      "execution_count": 3,
      "outputs": [
        {
          "output_type": "stream",
          "name": "stdout",
          "text": [
            "i$wznt$to$yexome$z$dztz$sxientist\n"
          ]
        }
      ]
    }
  ]
}